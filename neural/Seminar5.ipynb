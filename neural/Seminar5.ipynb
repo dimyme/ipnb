{
 "cells": [
  {
   "cell_type": "markdown",
   "metadata": {},
   "source": [
    "## Seminar 5: Deep Networks"
   ]
  },
  {
   "cell_type": "code",
   "execution_count": 1,
   "metadata": {
    "collapsed": false
   },
   "outputs": [
    {
     "name": "stderr",
     "output_type": "stream",
     "text": [
      "/home/necnec/progs/anaconda/lib/python2.7/site-packages/theano/tensor/signal/downsample.py:6: UserWarning: downsample module has been moved to the theano.tensor.signal.pool module.\n",
      "  \"downsample module has been moved to the theano.tensor.signal.pool module.\")\n"
     ]
    }
   ],
   "source": [
    "import numpy as np\n",
    "import theano\n",
    "import theano.tensor as T\n",
    "import lasagne\n",
    "import cPickle as pickle\n",
    "import os\n",
    "import matplotlib.pyplot as plt\n",
    "%matplotlib inline\n",
    "import scipy\n",
    "from scipy.misc import imread, imsave, imresize\n",
    "from lasagne.utils import floatX"
   ]
  },
  {
   "cell_type": "code",
   "execution_count": 2,
   "metadata": {
    "collapsed": false
   },
   "outputs": [],
   "source": [
    "from lasagne.layers import InputLayer\n",
    "from lasagne.layers import DenseLayer\n",
    "from lasagne.layers import NonlinearityLayer\n",
    "from lasagne.layers import DropoutLayer\n",
    "from lasagne.layers import Pool2DLayer as PoolLayer\n",
    "from lasagne.layers import Conv2DLayer as ConvLayer\n",
    "from lasagne.nonlinearities import rectify, softmax\n",
    "\n",
    "IMAGE_W = 224\n",
    "\n",
    "#vgg19 model\n",
    "#http://www.robots.ox.ac.uk/~vgg/research/very_deep/\n",
    "def build_model():\n",
    "    net = {}\n",
    "    net['input'] = InputLayer((None, 3, 224, 224))\n",
    "    net['conv1_1'] = ConvLayer(net['input'], 64, 3, pad=1, flip_filters=False)\n",
    "    net['conv1_2'] = ConvLayer(net['conv1_1'], 64, 3, pad=1, flip_filters=False)\n",
    "    net['pool1'] = PoolLayer(net['conv1_2'], 2)\n",
    "    net['conv2_1'] = ConvLayer(net['pool1'], 128, 3, pad=1, flip_filters=False)\n",
    "    net['conv2_2'] = ConvLayer(net['conv2_1'], 128, 3, pad=1, flip_filters=False)\n",
    "    net['pool2'] = PoolLayer(net['conv2_2'], 2)\n",
    "    net['conv3_1'] = ConvLayer(net['pool2'], 256, 3, pad=1, flip_filters=False)\n",
    "    net['conv3_2'] = ConvLayer(net['conv3_1'], 256, 3, pad=1, flip_filters=False)\n",
    "    net['conv3_3'] = ConvLayer(net['conv3_2'], 256, 3, pad=1, flip_filters=False)\n",
    "    net['conv3_4'] = ConvLayer(net['conv3_3'], 256, 3, pad=1, flip_filters=False)\n",
    "    net['pool3'] = PoolLayer(net['conv3_4'], 2)\n",
    "    net['conv4_1'] = ConvLayer(net['pool3'], 512, 3, pad=1, flip_filters=False)\n",
    "    net['conv4_2'] = ConvLayer(net['conv4_1'], 512, 3, pad=1, flip_filters=False)\n",
    "    net['conv4_3'] = ConvLayer(net['conv4_2'], 512, 3, pad=1, flip_filters=False)\n",
    "    net['conv4_4'] = ConvLayer(net['conv4_3'], 512, 3, pad=1, flip_filters=False)\n",
    "    net['pool4'] = PoolLayer(net['conv4_4'], 2)\n",
    "    net['conv5_1'] = ConvLayer(net['pool4'], 512, 3, pad=1, flip_filters=False)\n",
    "    net['conv5_2'] = ConvLayer(net['conv5_1'], 512, 3, pad=1, flip_filters=False)\n",
    "    net['conv5_3'] = ConvLayer(net['conv5_2'], 512, 3, pad=1, flip_filters=False)\n",
    "    net['conv5_4'] = ConvLayer(net['conv5_3'], 512, 3, pad=1, flip_filters=False)\n",
    "    net['pool5'] = PoolLayer(net['conv5_4'], 2)\n",
    "    net['fc6'] = DenseLayer(net['pool5'], num_units=4096)\n",
    "    net['fc6_dropout'] = DropoutLayer(net['fc6'], p=0.5)\n",
    "    net['fc7'] = DenseLayer(net['fc6_dropout'], num_units=4096)\n",
    "    net['fc7_dropout'] = DropoutLayer(net['fc7'], p=0.5)\n",
    "    net['fc8'] = DenseLayer(net['fc7_dropout'], num_units=1000, nonlinearity=None)\n",
    "    net['prob'] = NonlinearityLayer(net['fc8'], softmax)\n",
    "    return net"
   ]
  },
  {
   "cell_type": "code",
   "execution_count": 3,
   "metadata": {
    "collapsed": false
   },
   "outputs": [
    {
     "name": "stdout",
     "output_type": "stream",
     "text": [
      "['tench, Tinca tinca', 'goldfish, Carassius auratus', 'great white shark, white shark, man-eater, man-eating shark, Carcharodon carcharias', 'tiger shark, Galeocerdo cuvieri', 'hammerhead, hammerhead shark', 'electric ray, crampfish, numbfish, torpedo', 'stingray', 'cock', 'hen', 'ostrich, Struthio camelus', 'brambling, Fringilla montifringilla', 'goldfinch, Carduelis carduelis', 'house finch, linnet, Carpodacus mexicanus', 'junco, snowbird', 'indigo bunting, indigo finch, indigo bird, Passerina cyanea', 'robin, American robin, Turdus migratorius', 'bulbul', 'jay', 'magpie', 'chickadee']\n"
     ]
    }
   ],
   "source": [
    "#classes' names are stored here\n",
    "classes = pickle.load(open('classes.pkl'))\n",
    "#for example, 10th class is ostrich:\n",
    "print classes[:20]"
   ]
  },
  {
   "cell_type": "markdown",
   "metadata": {},
   "source": [
    "You have to implement two functions in the cell below.\n",
    "\n",
    "Preprocess function should take the image with shape (w, h, 3) and transform it into a tensor with shape (1, 3, 224, 224). Without this transformation, vgg19 won't be able to digest input image. \n",
    "Additionally, your preprocessing function have to rearrange channels RGB -> BGR and subtract mean values from every channel."
   ]
  },
  {
   "cell_type": "code",
   "execution_count": 4,
   "metadata": {
    "collapsed": false
   },
   "outputs": [],
   "source": [
    "MEAN_VALUES = np.array([104, 117, 123])\n",
    "IMAGE_W = 224\n",
    "\n",
    "def preprocess(img):\n",
    "    #print img[0,0], imresize(img, (IMAGE_W, IMAGE_W))[0,0]\n",
    "    return np.transpose(imresize(img, (IMAGE_W, IMAGE_W)), axes=[2, 0, 1])[np.newaxis,::-1] - MEAN_VALUES[np.newaxis,:,np.newaxis,np.newaxis]\n",
    "    \n",
    "def deprocess(img):\n",
    "    return np.transpose((img + MEAN_VALUES[np.newaxis,:,np.newaxis,np.newaxis])[:,::-1], axes=[0, 2, 3, 1])[0]\n",
    "\n",
    "img = np.random.randint(256, size=(IMAGE_W, IMAGE_W, 3))\n",
    "if not np.all(deprocess(preprocess(img)) == img):\n",
    "    print \"\"\"Either your implementation is incorrect, or floating point arithmetic is pulling some tricks\n",
    "anyway, the idea is that deprocess function is the inverse of preprocess function\"\"\""
   ]
  },
  {
   "cell_type": "code",
   "execution_count": 5,
   "metadata": {
    "collapsed": true
   },
   "outputs": [],
   "source": [
    "#load model weights\n",
    "#vgg19.npz is available for download at\n",
    "#https://yadi.sk/d/UQPXeM_GqEmGg\n",
    "net = build_model()\n",
    "params = np.load('vgg19.npz')['params']\n",
    "for i in range(32,len(params)):\n",
    "    params[i] = params[i].T\n",
    "lasagne.layers.set_all_param_values(net.values(), params)"
   ]
  },
  {
   "cell_type": "code",
   "execution_count": 6,
   "metadata": {
    "collapsed": true
   },
   "outputs": [],
   "source": [
    "input_image = T.tensor4('input')\n",
    "output = lasagne.layers.get_output(net['prob'], input_image, deterministic=True)\n",
    "prob = theano.function([input_image], output) "
   ]
  },
  {
   "cell_type": "markdown",
   "metadata": {},
   "source": [
    "In the cell below, you can test your preprocessing function on some sample images. If it is implemented correctly, **albatross.jpg** will be classified as albatross with 99.9% certainty, and with other pictures the network will produce mostly meaningful result.\n",
    "\n",
    "You can notice that network output varies from run to run. This behaviour can be supressed with help of \"deterministic\" keyword in get_output function in the cell above."
   ]
  },
  {
   "cell_type": "code",
   "execution_count": 7,
   "metadata": {
    "collapsed": false
   },
   "outputs": [
    {
     "data": {
      "image/png": "[encoded data removed]",
      "text/plain": [
       "<matplotlib.figure.Figure at 0x7f6fffb58d50>"
      ]
     },
     "metadata": {},
     "output_type": "display_data"
    },
    {
     "name": "stdout",
     "output_type": "stream",
     "text": [
      "top-5 classes are:\n",
      "0.998435\talbatross\n",
      "0.001543\tgoose\n",
      "0.000007\tAmerican egret\n",
      "0.000006\tptarmigan\n",
      "0.000002\tAmerican coot\n"
     ]
    }
   ],
   "source": [
    "img = imread('sample_images/albatross.jpg')\n",
    "plt.imshow(img)\n",
    "plt.show()\n",
    "\n",
    "p = prob(preprocess(img))\n",
    "\n",
    "labels = p.ravel().argsort()[-1:-6:-1]\n",
    "print 'top-5 classes are:'\n",
    "for l in labels:\n",
    "    print '%3f\\t%s' % (p.ravel()[l], classes[l].split(',')[0])"
   ]
  },
  {
   "cell_type": "markdown",
   "metadata": {},
   "source": [
    "Now, use vgg19 network and your knowledge of machine learning to classify cats and dogs!\n",
    "\n",
    "data: https://yadi.sk/d/m6ZO4BvWqEmR9\n",
    "\n",
    "**catsvsdogs/val/** validation images\n",
    "\n",
    "**catsvsdogs/val_labels.pickle** labels for validation images, sorted by filename\n",
    "\n",
    "**catsvsdogs/test/** test images\n",
    "\n",
    "You have to implement classification algorithm, tune it on validation images, save output of your algorithm on test images in form of pickled file, as shown below. Your results, as well as this notebook, have to be attached to your letter to rdlclass@yandex.ru\n",
    "\n",
    "I expect classification accuracy >95%, or >90% at least\n",
    "\n",
    "Cheating is not allowed"
   ]
  },
  {
   "cell_type": "code",
   "execution_count": 72,
   "metadata": {
    "collapsed": false
   },
   "outputs": [],
   "source": [
    "def classify(img):\n",
    "    p = prob(preprocess(img))\n",
    "\n",
    "    labels = p.ravel().argsort()[-1:0:-1]\n",
    "    for l in labels:\n",
    "        if p.ravel()[l] < 0.3:\n",
    "            break\n",
    "             \n",
    "        if classes[l].lower().find(\"cat\") != -1:\n",
    "            #print \"cat\"\n",
    "            return \"cat\"\n",
    "        \n",
    "        if classes[l].lower().find(\"dog\") != -1:\n",
    "            #print \"dog\"\n",
    "            return \"dog\"\n",
    "        \n",
    "        if classes[l].lower().find(\"hound\") != -1:\n",
    "            #print \"dog hound\"\n",
    "            return \"dog\"\n",
    "        \n",
    "        if classes[l].lower().find(\"terrier\") != -1:\n",
    "            #print \"dog terrier\"\n",
    "            return \"dog\"\n",
    "        \n",
    "        if classes[l].lower().find(\"retriever\") != -1:\n",
    "            #print \"dog pekinese\"\n",
    "            return \"dog\"\n",
    "        \n",
    "        if classes[l].lower().find(\"doberman\") != -1:\n",
    "            #print \"dog pekinese\"\n",
    "            return \"dog\"\n",
    "        \n",
    "        if classes[l].lower().find(\"pekinese\") != -1:\n",
    "            #print \"dog pekinese\"\n",
    "            return \"dog\"\n",
    "        \n",
    "        if classes[l].lower().find(\"pomeranian\") != -1:\n",
    "            #print \"dog pekinese\"\n",
    "            return \"dog\"\n",
    "        \n",
    "        if classes[l].lower().find(\"chihuahua\") != -1:\n",
    "            #print \"dog griffon\"\n",
    "            return \"dog\"\n",
    "        \n",
    "        if classes[l].lower().find(\"griffon\") != -1:\n",
    "            #print \"dog griffon\"\n",
    "            return \"dog\"\n",
    "        \n",
    "        if classes[l].lower().find(\"spaniel\") != -1:\n",
    "            #print \"dog spaniel\"\n",
    "            return \"dog\"\n",
    "        \n",
    "        if classes[l].lower().find(\"collie\") != -1:\n",
    "            #print \"dog collie\"\n",
    "            return \"dog\"\n",
    "        \n",
    "        if classes[l].lower().find(\"chow\") != -1:\n",
    "            #print \"dog chow\"\n",
    "            return \"dog\"\n",
    "        \n",
    "        if classes[l].lower().find(\"dhole\") != -1:\n",
    "            #print \"dog dhole\"\n",
    "            return \"dog\"\n",
    "    #for l in labels[:5]:\n",
    "    #    print classes[l]\n",
    "    \n",
    "    \n",
    "    #because dog names more special\n",
    "    return gridsearch.predict(p.ravel())[0]"
   ]
  },
  {
   "cell_type": "markdown",
   "metadata": {},
   "source": [
    "#### Dummy filter"
   ]
  },
  {
   "cell_type": "code",
   "execution_count": 73,
   "metadata": {
    "code_folding": [],
    "collapsed": false,
    "scrolled": true
   },
   "outputs": [
    {
     "name": "stdout",
     "output_type": "stream",
     "text": [
      "IMG:  000.jpg\n",
      "IMG:  001.jpg\n",
      "IMG:  002.jpg\n",
      "IMG:  003.jpg\n",
      "IMG:  004.jpg\n",
      "IMG:  005.jpg\n",
      "IMG:  006.jpg\n",
      "IMG:  007.jpg\n",
      "IMG:  008.jpg\n",
      "IMG:  009.jpg\n",
      "IMG:  010.jpg\n",
      "IMG:  011.jpg\n",
      "IMG:  012.jpg\n",
      "IMG:  013.jpg\n",
      "IMG:  014.jpg\n",
      "IMG:  015.jpg\n",
      "IMG:  016.jpg\n",
      "IMG:  017.jpg\n",
      "IMG:  018.jpg\n",
      "IMG:  019.jpg\n",
      "IMG:  020.jpg\n",
      "IMG:  021.jpg\n",
      "IMG:  022.jpg\n",
      "IMG:  023.jpg\n",
      "IMG:  024.jpg\n",
      "IMG:  025.jpg\n",
      "IMG:  026.jpg\n",
      "IMG:  027.jpg\n",
      "IMG:  028.jpg\n",
      "IMG:  029.jpg\n",
      "IMG:  030.jpg\n",
      "IMG:  031.jpg\n",
      "IMG:  032.jpg\n",
      "IMG:  033.jpg\n",
      "IMG:  034.jpg\n",
      "IMG:  035.jpg\n",
      "IMG:  036.jpg\n",
      "IMG:  037.jpg\n",
      "IMG:  038.jpg\n",
      "IMG:  039.jpg\n",
      "IMG:  040.jpg\n",
      "IMG:  041.jpg\n",
      "IMG:  042.jpg\n",
      "IMG:  043.jpg\n",
      "IMG:  044.jpg\n",
      "IMG:  045.jpg\n",
      "IMG:  046.jpg\n",
      "IMG:  047.jpg\n",
      "IMG:  048.jpg\n",
      "IMG:  049.jpg\n",
      "IMG:  050.jpg\n",
      "IMG:  051.jpg\n",
      "IMG:  052.jpg\n",
      "IMG:  053.jpg\n",
      "IMG:  054.jpg\n",
      "IMG:  055.jpg\n",
      "IMG:  056.jpg\n",
      "IMG:  057.jpg\n",
      "IMG:  058.jpg\n",
      "IMG:  059.jpg\n",
      "IMG:  060.jpg\n",
      "IMG:  061.jpg\n",
      "IMG:  062.jpg\n",
      "IMG:  063.jpg\n",
      "IMG:  064.jpg\n",
      "IMG:  065.jpg\n",
      "IMG:  066.jpg\n",
      "IMG:  067.jpg\n",
      "IMG:  068.jpg\n",
      "IMG:  069.jpg\n",
      "IMG:  070.jpg\n",
      "IMG:  071.jpg\n",
      "IMG:  072.jpg\n",
      "IMG:  073.jpg\n",
      "IMG:  074.jpg\n",
      "IMG:  075.jpg\n",
      "IMG:  076.jpg\n",
      "IMG:  077.jpg\n",
      "IMG:  078.jpg\n",
      "IMG:  079.jpg\n",
      "IMG:  080.jpg\n",
      "IMG:  081.jpg\n",
      "IMG:  082.jpg\n",
      "IMG:  083.jpg\n",
      "IMG:  084.jpg\n",
      "IMG:  085.jpg\n",
      "IMG:  086.jpg\n",
      "IMG:  087.jpg\n",
      "IMG:  088.jpg\n",
      "IMG:  089.jpg\n",
      "IMG:  090.jpg\n",
      "IMG:  091.jpg\n",
      "IMG:  092.jpg\n",
      "IMG:  093.jpg\n",
      "IMG:  094.jpg\n",
      "IMG:  095.jpg\n",
      "IMG:  096.jpg\n",
      "IMG:  097.jpg\n",
      "IMG:  098.jpg\n",
      "IMG:  099.jpg\n",
      "Accuracy:  1.0\n"
     ]
    }
   ],
   "source": [
    "from sklearn.metrics import accuracy_score\n",
    "## VALIDATION\n",
    "labels_val_true = pickle.load(open('catsvsdogs/val_labels.pickle'))\n",
    "\n",
    "labels_val_pred = []\n",
    "path = 'catsvsdogs/val/'\n",
    "files = sorted(os.listdir(path))\n",
    "for i, f in enumerate(files):\n",
    "    img = imread(path + f)\n",
    "    print \"IMG: \", f\n",
    "    label = classify(img)\n",
    "    labels_val_pred.append(label)\n",
    "    if labels_val_pred[-1] != labels_val_true[i]:\n",
    "        print \"INCORRECT true:{}, pred:{}\".format(labels_val_true[i],labels_val_pred[i])\n",
    "print \"Accuracy: \", accuracy_score(labels_val_true, labels_val_pred)"
   ]
  },
  {
   "cell_type": "markdown",
   "metadata": {},
   "source": [
    "#### Random forest"
   ]
  },
  {
   "cell_type": "code",
   "execution_count": 23,
   "metadata": {
    "code_folding": [],
    "collapsed": false
   },
   "outputs": [
    {
     "name": "stdout",
     "output_type": "stream",
     "text": [
      "\n"
     ]
    }
   ],
   "source": [
    "X = []\n",
    "for f in files:\n",
    "    img = imread(path + f)\n",
    "    X.append(prob(preprocess(img)))\n",
    "X = np.array(X)\n",
    "y_true = labels_val_true\n",
    "X = X[:,0,:]\n"
   ]
  },
  {
   "cell_type": "code",
   "execution_count": 66,
   "metadata": {
    "collapsed": false
   },
   "outputs": [],
   "source": [
    "param_grid = {'max_depth':[2,3,4,5,6,7]}\n",
    "gridsearch = gsc(RandomForestClassifier(), param_grid, cv=20)\n",
    "gridsearch.fit(X,y_true)\n",
    "gridsearch.best_score_\n",
    "y_pred =gridsearch.predict(X)\n",
    "for i in range(len(y_true)):\n",
    "    \n",
    "    if y_pred[i]!=y_true[i]:\n",
    "        print i"
   ]
  },
  {
   "cell_type": "code",
   "execution_count": 67,
   "metadata": {
    "collapsed": false
   },
   "outputs": [
    {
     "data": {
      "text/plain": [
       "1.0"
      ]
     },
     "execution_count": 67,
     "metadata": {},
     "output_type": "execute_result"
    }
   ],
   "source": [
    "accuracy_score(y_pred, y_true )"
   ]
  },
  {
   "cell_type": "markdown",
   "metadata": {},
   "source": [
    "### ."
   ]
  },
  {
   "cell_type": "code",
   "execution_count": 74,
   "metadata": {
    "collapsed": false,
    "scrolled": true
   },
   "outputs": [
    {
     "name": "stdout",
     "output_type": "stream",
     "text": [
      "IMG:  000.jpg\n",
      "IMG:  001.jpg\n",
      "IMG:  002.jpg\n",
      "IMG:  003.jpg\n",
      "IMG:  004.jpg\n",
      "IMG:  005.jpg\n",
      "IMG:  006.jpg\n",
      "IMG:  007.jpg\n",
      "IMG:  008.jpg\n",
      "IMG:  009.jpg\n",
      "IMG:  010.jpg\n",
      "IMG:  011.jpg\n",
      "IMG:  012.jpg\n",
      "IMG:  013.jpg\n",
      "IMG:  014.jpg\n",
      "IMG:  015.jpg\n",
      "IMG:  016.jpg\n",
      "IMG:  017.jpg\n",
      "IMG:  018.jpg\n",
      "IMG:  019.jpg\n",
      "IMG:  020.jpg\n",
      "IMG:  021.jpg\n",
      "IMG:  022.jpg\n",
      "IMG:  023.jpg\n",
      "IMG:  024.jpg\n",
      "IMG:  025.jpg\n",
      "IMG:  026.jpg\n",
      "IMG:  027.jpg\n",
      "IMG:  028.jpg\n",
      "IMG:  029.jpg\n",
      "IMG:  030.jpg\n",
      "IMG:  031.jpg\n",
      "IMG:  032.jpg\n",
      "IMG:  033.jpg\n",
      "IMG:  034.jpg\n",
      "IMG:  035.jpg\n",
      "IMG:  036.jpg\n",
      "IMG:  037.jpg\n",
      "IMG:  038.jpg\n",
      "IMG:  039.jpg\n",
      "IMG:  040.jpg\n",
      "IMG:  041.jpg\n",
      "IMG:  042.jpg\n",
      "IMG:  043.jpg\n",
      "IMG:  044.jpg\n",
      "IMG:  045.jpg\n",
      "IMG:  046.jpg\n",
      "IMG:  047.jpg\n",
      "IMG:  048.jpg\n",
      "IMG:  049.jpg\n",
      "IMG:  050.jpg\n",
      "IMG:  051.jpg\n",
      "IMG:  052.jpg\n",
      "IMG:  053.jpg\n",
      "IMG:  054.jpg\n",
      "IMG:  055.jpg\n",
      "IMG:  056.jpg\n",
      "IMG:  057.jpg\n",
      "IMG:  058.jpg\n",
      "IMG:  059.jpg\n",
      "IMG:  060.jpg\n",
      "IMG:  061.jpg\n",
      "IMG:  062.jpg\n",
      "IMG:  063.jpg\n",
      "IMG:  064.jpg\n",
      "IMG:  065.jpg\n",
      "IMG:  066.jpg\n",
      "IMG:  067.jpg\n",
      "IMG:  068.jpg\n",
      "IMG:  069.jpg\n",
      "IMG:  070.jpg\n",
      "IMG:  071.jpg\n",
      "IMG:  072.jpg\n",
      "IMG:  073.jpg\n",
      "IMG:  074.jpg\n",
      "IMG:  075.jpg\n",
      "IMG:  076.jpg\n",
      "IMG:  077.jpg\n",
      "IMG:  078.jpg\n",
      "IMG:  079.jpg\n",
      "IMG:  080.jpg\n",
      "IMG:  081.jpg\n",
      "IMG:  082.jpg\n",
      "IMG:  083.jpg\n",
      "IMG:  084.jpg\n",
      "IMG:  085.jpg\n",
      "IMG:  086.jpg\n",
      "IMG:  087.jpg\n",
      "IMG:  088.jpg\n",
      "IMG:  089.jpg\n",
      "IMG:  090.jpg\n",
      "IMG:  091.jpg\n",
      "IMG:  092.jpg\n",
      "IMG:  093.jpg\n",
      "IMG:  094.jpg\n",
      "IMG:  095.jpg\n",
      "IMG:  096.jpg\n",
      "IMG:  097.jpg\n",
      "IMG:  098.jpg\n",
      "IMG:  099.jpg\n",
      "IMG:  100.jpg\n",
      "IMG:  101.jpg\n",
      "IMG:  102.jpg\n",
      "IMG:  103.jpg\n",
      "IMG:  104.jpg\n",
      "IMG:  105.jpg\n",
      "IMG:  106.jpg\n",
      "IMG:  107.jpg\n",
      "IMG:  108.jpg\n",
      "IMG:  109.jpg\n",
      "IMG:  110.jpg\n",
      "IMG:  111.jpg\n",
      "IMG:  112.jpg\n",
      "IMG:  113.jpg\n",
      "IMG:  114.jpg\n",
      "IMG:  115.jpg\n",
      "IMG:  116.jpg\n",
      "IMG:  117.jpg\n",
      "IMG:  118.jpg\n",
      "IMG:  119.jpg\n",
      "IMG:  120.jpg\n",
      "IMG:  121.jpg\n",
      "IMG:  122.jpg\n",
      "IMG:  123.jpg\n",
      "IMG:  124.jpg\n",
      "IMG:  125.jpg\n",
      "IMG:  126.jpg\n",
      "IMG:  127.jpg\n",
      "IMG:  128.jpg\n",
      "IMG:  129.jpg\n",
      "IMG:  130.jpg\n",
      "IMG:  131.jpg\n",
      "IMG:  132.jpg\n",
      "IMG:  133.jpg\n",
      "IMG:  134.jpg\n",
      "IMG:  135.jpg\n",
      "IMG:  136.jpg\n",
      "IMG:  137.jpg\n",
      "IMG:  138.jpg\n",
      "IMG:  139.jpg\n",
      "IMG:  140.jpg\n",
      "IMG:  141.jpg\n",
      "IMG:  142.jpg\n",
      "IMG:  143.jpg\n",
      "IMG:  144.jpg\n",
      "IMG:  145.jpg\n",
      "IMG:  146.jpg\n",
      "IMG:  147.jpg\n",
      "IMG:  148.jpg\n",
      "IMG:  149.jpg\n",
      "IMG:  150.jpg\n",
      "IMG:  151.jpg\n",
      "IMG:  152.jpg\n",
      "IMG:  153.jpg\n",
      "IMG:  154.jpg\n",
      "IMG:  155.jpg\n",
      "IMG:  156.jpg\n",
      "IMG:  157.jpg\n",
      "IMG:  158.jpg\n",
      "IMG:  159.jpg\n",
      "IMG:  160.jpg\n",
      "IMG:  161.jpg\n",
      "IMG:  162.jpg\n",
      "IMG:  163.jpg\n",
      "IMG:  164.jpg\n",
      "IMG:  165.jpg\n",
      "IMG:  166.jpg\n",
      "IMG:  167.jpg\n",
      "IMG:  168.jpg\n",
      "IMG:  169.jpg\n",
      "IMG:  170.jpg\n",
      "IMG:  171.jpg\n",
      "IMG:  172.jpg\n",
      "IMG:  173.jpg\n",
      "IMG:  174.jpg\n",
      "IMG:  175.jpg\n",
      "IMG:  176.jpg\n",
      "IMG:  177.jpg\n",
      "IMG:  178.jpg\n",
      "IMG:  179.jpg\n",
      "IMG:  180.jpg\n",
      "IMG:  181.jpg\n",
      "IMG:  182.jpg\n",
      "IMG:  183.jpg\n",
      "IMG:  184.jpg\n",
      "IMG:  185.jpg\n",
      "IMG:  186.jpg\n",
      "IMG:  187.jpg\n",
      "IMG:  188.jpg\n",
      "IMG:  189.jpg\n",
      "IMG:  190.jpg\n",
      "IMG:  191.jpg\n",
      "IMG:  192.jpg\n",
      "IMG:  193.jpg\n",
      "IMG:  194.jpg\n",
      "IMG:  195.jpg\n",
      "IMG:  196.jpg\n",
      "IMG:  197.jpg\n",
      "IMG:  198.jpg\n",
      "IMG:  199.jpg\n",
      "IMG:  200.jpg\n",
      "IMG:  201.jpg\n",
      "IMG:  202.jpg\n",
      "IMG:  203.jpg\n",
      "IMG:  204.jpg\n",
      "IMG:  205.jpg\n",
      "IMG:  206.jpg\n",
      "IMG:  207.jpg\n",
      "IMG:  208.jpg\n",
      "IMG:  209.jpg\n",
      "IMG:  210.jpg\n",
      "IMG:  211.jpg\n",
      "IMG:  212.jpg\n",
      "IMG:  213.jpg\n",
      "IMG:  214.jpg\n",
      "IMG:  215.jpg\n",
      "IMG:  216.jpg\n",
      "IMG:  217.jpg\n",
      "IMG:  218.jpg\n",
      "IMG:  219.jpg\n",
      "IMG:  220.jpg\n",
      "IMG:  221.jpg\n",
      "IMG:  222.jpg\n",
      "IMG:  223.jpg\n",
      "IMG:  224.jpg\n",
      "IMG:  225.jpg\n",
      "IMG:  226.jpg\n",
      "IMG:  227.jpg\n",
      "IMG:  228.jpg\n",
      "IMG:  229.jpg\n",
      "IMG:  230.jpg\n",
      "IMG:  231.jpg\n",
      "IMG:  232.jpg\n",
      "IMG:  233.jpg\n",
      "IMG:  234.jpg\n",
      "IMG:  235.jpg\n",
      "IMG:  236.jpg\n",
      "IMG:  237.jpg\n",
      "IMG:  238.jpg\n",
      "IMG:  239.jpg\n",
      "IMG:  240.jpg\n",
      "IMG:  241.jpg\n",
      "IMG:  242.jpg\n",
      "IMG:  243.jpg\n",
      "IMG:  244.jpg\n",
      "IMG:  245.jpg\n",
      "IMG:  246.jpg\n",
      "IMG:  247.jpg\n",
      "IMG:  248.jpg\n",
      "IMG:  249.jpg\n",
      "IMG:  250.jpg\n",
      "IMG:  251.jpg\n",
      "IMG:  252.jpg\n",
      "IMG:  253.jpg\n",
      "IMG:  254.jpg\n",
      "IMG:  255.jpg\n",
      "IMG:  256.jpg\n",
      "IMG:  257.jpg\n",
      "IMG:  258.jpg\n",
      "IMG:  259.jpg\n",
      "IMG:  260.jpg\n",
      "IMG:  261.jpg\n",
      "IMG:  262.jpg\n",
      "IMG:  263.jpg\n",
      "IMG:  264.jpg\n",
      "IMG:  265.jpg\n",
      "IMG:  266.jpg\n",
      "IMG:  267.jpg\n",
      "IMG:  268.jpg\n",
      "IMG:  269.jpg\n",
      "IMG:  270.jpg\n",
      "IMG:  271.jpg\n",
      "IMG:  272.jpg\n",
      "IMG:  273.jpg\n",
      "IMG:  274.jpg\n",
      "IMG:  275.jpg\n",
      "IMG:  276.jpg\n",
      "IMG:  277.jpg\n",
      "IMG:  278.jpg\n",
      "IMG:  279.jpg\n",
      "IMG:  280.jpg\n",
      "IMG:  281.jpg\n",
      "IMG:  282.jpg\n",
      "IMG:  283.jpg\n",
      "IMG:  284.jpg\n",
      "IMG:  285.jpg\n",
      "IMG:  286.jpg\n",
      "IMG:  287.jpg\n",
      "IMG:  288.jpg\n",
      "IMG:  289.jpg\n",
      "IMG:  290.jpg\n",
      "IMG:  291.jpg\n",
      "IMG:  292.jpg\n",
      "IMG:  293.jpg\n",
      "IMG:  294.jpg\n",
      "IMG:  295.jpg\n",
      "IMG:  296.jpg\n",
      "IMG:  297.jpg\n",
      "IMG:  298.jpg\n",
      "IMG:  299.jpg\n",
      "IMG:  300.jpg\n",
      "IMG:  301.jpg\n",
      "IMG:  302.jpg\n",
      "IMG:  303.jpg\n",
      "IMG:  304.jpg\n",
      "IMG:  305.jpg\n",
      "IMG:  306.jpg\n",
      "IMG:  307.jpg\n",
      "IMG:  308.jpg\n",
      "IMG:  309.jpg\n",
      "IMG:  310.jpg\n",
      "IMG:  311.jpg\n",
      "IMG:  312.jpg\n",
      "IMG:  313.jpg\n",
      "IMG:  314.jpg\n",
      "IMG:  315.jpg\n",
      "IMG:  316.jpg\n",
      "IMG:  317.jpg\n",
      "IMG:  318.jpg\n",
      "IMG:  319.jpg\n",
      "IMG:  320.jpg\n",
      "IMG:  321.jpg\n",
      "IMG:  322.jpg\n",
      "IMG:  323.jpg\n",
      "IMG:  324.jpg\n",
      "IMG:  325.jpg\n",
      "IMG:  326.jpg\n",
      "IMG:  327.jpg\n",
      "IMG:  328.jpg\n",
      "IMG:  329.jpg\n",
      "IMG:  330.jpg\n",
      "IMG:  331.jpg\n",
      "IMG:  332.jpg\n",
      "IMG:  333.jpg\n",
      "IMG:  334.jpg\n",
      "IMG:  335.jpg\n",
      "IMG:  336.jpg\n",
      "IMG:  337.jpg\n",
      "IMG:  338.jpg\n",
      "IMG:  339.jpg\n",
      "IMG:  340.jpg\n",
      "IMG:  341.jpg\n",
      "IMG:  342.jpg\n",
      "IMG:  343.jpg\n",
      "IMG:  344.jpg\n",
      "IMG:  345.jpg\n",
      "IMG:  346.jpg\n",
      "IMG:  347.jpg\n",
      "IMG:  348.jpg\n",
      "IMG:  349.jpg\n",
      "IMG:  350.jpg\n",
      "IMG:  351.jpg\n",
      "IMG:  352.jpg\n",
      "IMG:  353.jpg\n",
      "IMG:  354.jpg\n",
      "IMG:  355.jpg\n",
      "IMG:  356.jpg\n",
      "IMG:  357.jpg\n",
      "IMG:  358.jpg\n",
      "IMG:  359.jpg\n",
      "IMG:  360.jpg\n",
      "IMG:  361.jpg\n",
      "IMG:  362.jpg\n",
      "IMG:  363.jpg\n",
      "IMG:  364.jpg\n",
      "IMG:  365.jpg\n",
      "IMG:  366.jpg\n",
      "IMG:  367.jpg\n",
      "IMG:  368.jpg\n",
      "IMG:  369.jpg\n",
      "IMG:  370.jpg\n",
      "IMG:  371.jpg\n",
      "IMG:  372.jpg\n",
      "IMG:  373.jpg\n",
      "IMG:  374.jpg\n",
      "IMG:  375.jpg\n",
      "IMG:  376.jpg\n",
      "IMG:  377.jpg\n",
      "IMG:  378.jpg\n",
      "IMG:  379.jpg\n",
      "IMG:  380.jpg\n",
      "IMG:  381.jpg\n",
      "IMG:  382.jpg\n",
      "IMG:  383.jpg\n",
      "IMG:  384.jpg\n",
      "IMG:  385.jpg\n",
      "IMG:  386.jpg\n",
      "IMG:  387.jpg\n",
      "IMG:  388.jpg\n",
      "IMG:  389.jpg\n",
      "IMG:  390.jpg\n",
      "IMG:  391.jpg\n",
      "IMG:  392.jpg\n",
      "IMG:  393.jpg\n",
      "IMG:  394.jpg\n",
      "IMG:  395.jpg\n",
      "IMG:  396.jpg\n",
      "IMG:  397.jpg\n",
      "IMG:  398.jpg\n",
      "IMG:  399.jpg\n"
     ]
    }
   ],
   "source": [
    "path = 'catsvsdogs/test/'\n",
    "files = sorted(os.listdir(path))\n",
    "\n",
    "labels = []\n",
    "\n",
    "for f in files:\n",
    "    img = imread(path + f)\n",
    "    print \"IMG: \", f\n",
    "    label = classify(img)\n",
    "    labels.append(label)\n",
    "    \n",
    "pickle.dump(labels, open('test_labels.pickle', 'wb'))"
   ]
  },
  {
   "cell_type": "markdown",
   "metadata": {},
   "source": [
    "## Visualizations\n",
    "\n",
    "It is easy to visualize the weights of the first convolutional layer:"
   ]
  },
  {
   "cell_type": "code",
   "execution_count": 75,
   "metadata": {
    "collapsed": false
   },
   "outputs": [
    {
     "name": "stderr",
     "output_type": "stream",
     "text": [
      "/home/necnec/progs/anaconda/lib/python2.7/site-packages/matplotlib/axes/_subplots.py:69: MatplotlibDeprecationWarning: The use of 0 (which ends up being the _last_ sub-plot) is deprecated in 1.4 and will raise an error in 1.5\n",
      "  mplDeprecation)\n"
     ]
    },
    {
     "data": {
      "image/png": "[encoded data removed]",
      "text/plain": [
       "<matplotlib.figure.Figure at 0x7f6ff41231d0>"
      ]
     },
     "metadata": {},
     "output_type": "display_data"
    }
   ],
   "source": [
    "w = net['conv1_1'].W.eval().copy()\n",
    "w -= w.min()\n",
    "w /= w.max()\n",
    "plt.figure(figsize=(10, 10))\n",
    "for i in range(8):\n",
    "    for j in range(8):\n",
    "        n = 8*j + i\n",
    "        if n < 64:\n",
    "            plt.subplot(8,8,n)\n",
    "            plt.axis('off')\n",
    "            plt.imshow(w[n,:,:,:].transpose((1,2,0)), interpolation='none')\n",
    "plt.show()"
   ]
  },
  {
   "cell_type": "markdown",
   "metadata": {},
   "source": [
    "On higher layers, filters have more than 3 channels, so it is impossible to visualize them directly. However, of we want to understand something about features on higher layers, it is possible to visualize them via optimization of the input image.\n",
    "\n",
    "Namely, we can solve the following problem\n",
    "\n",
    "$$J=\\mathrm{argmax} \\left( n^i_{xyc}(I) \\right)$$\n",
    "\n",
    "there $n^i_{xyc}$ is the activation of neuron on $i$'th layer in position $x$,$y$,$c$ given input image $I$.\n",
    "Basically, $J$ is the answer on a question \"what our neuron is looking for?\""
   ]
  },
  {
   "cell_type": "code",
   "execution_count": 54,
   "metadata": {
    "collapsed": false
   },
   "outputs": [
    {
     "name": "stderr",
     "output_type": "stream",
     "text": [
      "/home/necnec/.local/lib/python2.7/site-packages/ipykernel/__main__.py:8: DeprecationWarning: Division of two integer types with x / y is deprecated, please use x // y for an integer division.\n",
      "/home/necnec/.local/lib/python2.7/site-packages/ipykernel/__main__.py:9: DeprecationWarning: Division of two integer types with x / y is deprecated, please use x // y for an integer division.\n"
     ]
    }
   ],
   "source": [
    "generated_image = theano.shared(floatX(np.zeros((1, 3, IMAGE_W, IMAGE_W))))\n",
    "gen_features = lasagne.layers.get_output(net.values(), generated_image)\n",
    "gen_features = {k: v for k, v in zip(net.keys(), gen_features)}\n",
    "\n",
    "layer_name = 'pool1'\n",
    "c = 0\n",
    "blob_width = gen_features[layer_name].shape[2]\n",
    "x = blob_width/2\n",
    "y = blob_width/2\n",
    "loss = 1e10*(1e1 - gen_features[layer_name][0, c, x, y])**2\n",
    "\n",
    "grad = T.grad(loss, generated_image)\n",
    "\n",
    "tv_loss = T.mean(T.abs_(generated_image[:,:,1:,1:] - generated_image[:,:,:-1,1:]) +\n",
    "                 T.abs_(generated_image[:,:,1:,1:] - generated_image[:,:,1:,:-1]))\n",
    "\n",
    "f_loss = theano.function([], loss + 1.0 * tv_loss)\n",
    "f_grad = theano.function([], grad)\n",
    "\n",
    "# Helper functions to interface with scipy.optimize\n",
    "def eval_loss(x0):\n",
    "    x_ = floatX(x0.reshape((1, 3, IMAGE_W, IMAGE_W)))\n",
    "    generated_image.set_value(x_)\n",
    "    return f_loss().astype('float64')\n",
    "\n",
    "def eval_grad(x0):\n",
    "    x0 = floatX(x0.reshape((1, 3, IMAGE_W, IMAGE_W)))\n",
    "    generated_image.set_value(x0)\n",
    "    return np.array(f_grad()).flatten().astype('float64')"
   ]
  },
  {
   "cell_type": "code",
   "execution_count": 55,
   "metadata": {
    "collapsed": false
   },
   "outputs": [],
   "source": [
    "#run input image optimization via scipy.optimize.fmin_l_bfgs_b\n",
    "generated_image.set_value(floatX(np.zeros((1, 3, IMAGE_W, IMAGE_W))))\n",
    "x0 = generated_image.get_value().astype('float64')\n",
    "status = scipy.optimize.fmin_l_bfgs_b(eval_loss, x0.flatten(), fprime=eval_grad, maxfun=20)\n",
    "x0 = generated_image.get_value().astype('float64')"
   ]
  },
  {
   "cell_type": "markdown",
   "metadata": {},
   "source": [
    "If your **deprocess** function is implemented correctly, you'll see that the neuron on the first pooling layer is looking for. The result should look like gabor filter, simular to ones found in the first layer of networks with large filters, such as AlexNet."
   ]
  },
  {
   "cell_type": "code",
   "execution_count": 56,
   "metadata": {
    "collapsed": false
   },
   "outputs": [
    {
     "data": {
      "image/png": "[encoded data removed]",
      "text/plain": [
       "<matplotlib.figure.Figure at 0x7f42c18a8810>"
      ]
     },
     "metadata": {},
     "output_type": "display_data"
    },
    {
     "data": {
      "image/png": "[encoded data removed]",
      "text/plain": [
       "<matplotlib.figure.Figure at 0x7f428ad111d0>"
      ]
     },
     "metadata": {},
     "output_type": "display_data"
    },
    {
     "data": {
      "image/png": "[encoded data removed]",
      "text/plain": [
       "<matplotlib.figure.Figure at 0x7f42980faed0>"
      ]
     },
     "metadata": {},
     "output_type": "display_data"
    },
    {
     "data": {
      "image/png": "[encoded data removed]",
      "text/plain": [
       "<matplotlib.figure.Figure at 0x7f42bb1cfc90>"
      ]
     },
     "metadata": {},
     "output_type": "display_data"
    },
    {
     "data": {
      "image/png": "[encoded data removed]",
      "text/plain": [
       "<matplotlib.figure.Figure at 0x7f428b5aa650>"
      ]
     },
     "metadata": {},
     "output_type": "display_data"
    }
   ],
   "source": [
    "#show the results\n",
    "w = IMAGE_W\n",
    "for d in [112, 64, 32, 16, 8]:\n",
    "    pic = deprocess(x0)[w/2-d:w/2+d,w/2-d:w/2+d,:]\n",
    "    pic -= pic.min()\n",
    "    pic /= pic.max()\n",
    "    plt.imshow(pic, interpolation='None')\n",
    "    plt.show()"
   ]
  },
  {
   "cell_type": "markdown",
   "metadata": {},
   "source": [
    "Optional problem:\n",
    "Adjust the code above to work with neurons on fc8 layer.\n",
    "\n",
    "\n",
    "fc8 neurons are wired to output classes, so maximization of neuron value will produce an image which contains as much of given class (from the point of view of neural network) as possible. \n",
    "\n",
    "Examples of such images are shown at:\n",
    "\n",
    "http://yosinski.com/deepvis\n",
    "\n",
    "http://googleresearch.blogspot.ru/2015/06/inceptionism-going-deeper-into-neural.html\n",
    "\n",
    "http://auduno.com/post/125362849838/visualizing-googlenet-classes"
   ]
  },
  {
   "cell_type": "code",
   "execution_count": null,
   "metadata": {
    "collapsed": true
   },
   "outputs": [],
   "source": []
  }
 ],
 "metadata": {
  "hide_input": false,
  "kernelspec": {
   "display_name": "Python 2",
   "language": "python",
   "name": "python2"
  },
  "language_info": {
   "codemirror_mode": {
    "name": "ipython",
    "version": 2
   },
   "file_extension": ".py",
   "mimetype": "text/x-python",
   "name": "python",
   "nbconvert_exporter": "python",
   "pygments_lexer": "ipython2",
   "version": "2.7.11"
  },
  "toc": {
   "toc_cell": false,
   "toc_number_sections": true,
   "toc_threshold": 6,
   "toc_window_display": false
  }
 },
 "nbformat": 4,
 "nbformat_minor": 0
}
